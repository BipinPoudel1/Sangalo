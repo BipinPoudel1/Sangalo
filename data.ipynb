{
 "cells": [
  {
   "cell_type": "code",
   "execution_count": 3,
   "metadata": {},
   "outputs": [],
   "source": [
    "import mysql.connector\n",
    "\n",
    "# Database connection\n",
    "db = mysql.connector.connect(\n",
    "    host=\"localhost\",\n",
    "    user=\"tanjiro\",\n",
    "    password=\"kamado\",\n",
    "    database=\"sangalo\"\n",
    ")\n",
    "\n",
    "cursor = db.cursor()\n",
    "\n",
    "\n",
    "# Create table\n",
    "cursor.execute(\"\"\"\n",
    "CREATE TABLE राजनीतिज्ञ (\n",
    "     प्रदेश VARCHAR(100),\n",
    "     जिल्ला VARCHAR(100),\n",
    "     स्थानीय_इकाई VARCHAR(100),\n",
    "     स्थिति VARCHAR(100),\n",
    "     राजनीतिक_पार्टी VARCHAR(100),\n",
    "     नाम VARCHAR(100),\n",
    "     लिङ्ग VARCHAR(100),\n",
    "     उमेर VARCHAR(100),\n",
    "     कुल_मतहरू VARCHAR(100),\n",
    "     सम्पर्क_नम्बर VARCHAR(100),\n",
    "     official_website VARCHAR(100)\n",
    ")\n",
    "\"\"\")\n",
    "\n",
    "db.close()"
   ]
  },
  {
   "cell_type": "code",
   "execution_count": 6,
   "metadata": {},
   "outputs": [],
   "source": [
    "import pandas as pd\n",
    "import mysql.connector\n",
    "\n",
    "# Read data from Excel file\n",
    "df = pd.read_excel('Data_Nepali_1.xlsx')\n",
    "\n",
    "# Database connection\n",
    "db = mysql.connector.connect(\n",
    "    host=\"localhost\",\n",
    "    user=\"tanjiro\",\n",
    "    password=\"kamado\",\n",
    "    database=\"sangalo\"\n",
    ")\n",
    "cursor = db.cursor()\n",
    "\n",
    "# Insert data into the table\n",
    "for index, row in df.iterrows():\n",
    "    try:\n",
    "        # Replace empty cells with None (NULL)\n",
    "        row = row.where(pd.notnull(row), None)\n",
    "        \n",
    "        cursor.execute(\"\"\"\n",
    "        INSERT INTO राजनीतिज्ञ (प्रदेश, जिल्ला, स्थानीय_इकाई, स्थिति, राजनीतिक_पार्टी, नाम, लिङ्ग, उमेर, कुल_मतहरू, सम्पर्क_नम्बर, official_website)\n",
    "        VALUES (%s, %s, %s, %s, %s, %s, %s, %s, %s, %s, %s)\n",
    "        \"\"\", (row['प्रदेश'], row['जिल्ला'], row['स्थानीय_इकाई'], row['स्थिति'], row['राजनीतिक_पार्टी'], row['नाम'], row['लिङ्ग'], row['उमेर'], row['कुल_मतहरू'], row['सम्पर्क_नम्बर'], row['official_website']))\n",
    "    except mysql.connector.Error as err:\n",
    "        print(f\"Error: {err}\")\n",
    "        print(f\"Row data: {row}\")\n",
    "\n",
    "db.commit()\n",
    "\n",
    "db.close()"
   ]
  },
  {
   "cell_type": "code",
   "execution_count": 7,
   "metadata": {},
   "outputs": [
    {
     "ename": "SyntaxError",
     "evalue": "invalid syntax. Perhaps you forgot a comma? (942625676.py, line 7)",
     "output_type": "error",
     "traceback": [
      "\u001b[1;36m  Cell \u001b[1;32mIn[7], line 7\u001b[1;36m\u001b[0m\n\u001b[1;33m    password=\"kamado\"\u001b[0m\n\u001b[1;37m             ^\u001b[0m\n\u001b[1;31mSyntaxError\u001b[0m\u001b[1;31m:\u001b[0m invalid syntax. Perhaps you forgot a comma?\n"
     ]
    }
   ],
   "source": [
    "import mysql.connector\n",
    "\n",
    "# Database connection\n",
    "db = mysql.connector.connect(\n",
    "    host=\"localhost\",\n",
    "    user=\"tanjiro\",  # Add your password if required\n",
    "    password=\"kamado\",\n",
    "    database=\"sangalo\"\n",
    ")\n",
    "\n",
    "cursor = db.cursor()\n",
    "\n",
    "# Add multiple columns to the table\n",
    "try:\n",
    "    cursor.execute(\"\"\"\n",
    "     ALTER TABLE राजनीतिज्ञ \n",
    "     ADD COLUMN फोटो VARCHAR(2048),\n",
    "     ADD COLUMN शिक्षा VARCHAR(100),\n",
    "     ADD COLUMN Social_media VARCHAR(2048),\n",
    "     ADD COLUMN उपलब्धिहरू VARCHAR(100),\n",
    "     ADD COLUMN वैवाहिक_स्थिति VARCHAR(100),\n",
    "     ADD COLUMN भाषा VARCHAR(100);\n",
    "    \"\"\")\n",
    "    # Replace 'column1', 'column2', 'column3' with the names of your new columns\n",
    "    # Replace 'datatype' with the data types of your new columns (e.g., VARCHAR(100), INT, etc.)\n",
    "    db.commit()\n",
    "    print(\"Multiple columns added successfully!\")\n",
    "except mysql.connector.Error as err:\n",
    "    print(f\"Error: {err}\")\n",
    "\n",
    "db.close()"
   ]
  }
 ],
 "metadata": {
  "kernelspec": {
   "display_name": "Python 3",
   "language": "python",
   "name": "python3"
  },
  "language_info": {
   "codemirror_mode": {
    "name": "ipython",
    "version": 3
   },
   "file_extension": ".py",
   "mimetype": "text/x-python",
   "name": "python",
   "nbconvert_exporter": "python",
   "pygments_lexer": "ipython3",
   "version": "3.12.4"
  }
 },
 "nbformat": 4,
 "nbformat_minor": 2
}
